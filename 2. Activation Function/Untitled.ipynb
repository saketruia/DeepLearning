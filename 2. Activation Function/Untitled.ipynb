{
 "cells": [
  {
   "cell_type": "code",
   "execution_count": 1,
   "id": "e4b64fb1-4b8c-4675-84e8-a1f14281e638",
   "metadata": {},
   "outputs": [],
   "source": [
    "import math\n",
    "\n",
    "def sigmoid(x):\n",
    "  return 1 / (1 + math.exp(-x))"
   ]
  },
  {
   "cell_type": "code",
   "execution_count": 2,
   "id": "fe7ed8e2-e0d2-4a0c-bb8f-db9bb01b00d4",
   "metadata": {},
   "outputs": [
    {
     "data": {
      "text/plain": [
       "1.0"
      ]
     },
     "execution_count": 2,
     "metadata": {},
     "output_type": "execute_result"
    }
   ],
   "source": [
    "sigmoid(100)"
   ]
  },
  {
   "cell_type": "code",
   "execution_count": 4,
   "id": "8cba64f9-fe60-49d8-8ac5-6345c6c3733a",
   "metadata": {},
   "outputs": [
    {
     "data": {
      "text/plain": [
       "0.9999938558253978"
      ]
     },
     "execution_count": 4,
     "metadata": {},
     "output_type": "execute_result"
    }
   ],
   "source": [
    "sigmoid(12)"
   ]
  },
  {
   "cell_type": "code",
   "execution_count": 6,
   "id": "bc3074a9-fff6-4e69-8b4f-2a9e2088cd74",
   "metadata": {},
   "outputs": [
    {
     "data": {
      "text/plain": [
       "0.617421954957166"
      ]
     },
     "execution_count": 6,
     "metadata": {},
     "output_type": "execute_result"
    }
   ],
   "source": [
    "sigmoid(0.47862)"
   ]
  },
  {
   "cell_type": "code",
   "execution_count": 7,
   "id": "797e8d29-bce6-4566-8d32-990d3cea458c",
   "metadata": {},
   "outputs": [
    {
     "data": {
      "text/plain": [
       "3.1391327920480296e-17"
      ]
     },
     "execution_count": 7,
     "metadata": {},
     "output_type": "execute_result"
    }
   ],
   "source": [
    "sigmoid(-38)"
   ]
  },
  {
   "cell_type": "code",
   "execution_count": 8,
   "id": "5ab39f9d-02dc-4292-9fa4-f42527996a80",
   "metadata": {},
   "outputs": [],
   "source": [
    "def tanh(x):\n",
    "  return (math.exp(x) - math.exp(-x)) / (math.exp(x) + math.exp(-x))"
   ]
  },
  {
   "cell_type": "code",
   "execution_count": 10,
   "id": "4bef4d29-40de-49b9-8d38-338e2b5e56f2",
   "metadata": {},
   "outputs": [
    {
     "data": {
      "text/plain": [
       "-1.0"
      ]
     },
     "execution_count": 10,
     "metadata": {},
     "output_type": "execute_result"
    }
   ],
   "source": [
    "tanh(-37)"
   ]
  },
  {
   "cell_type": "code",
   "execution_count": 12,
   "id": "ad1b0d8d-97ae-43db-837e-48df616f5498",
   "metadata": {},
   "outputs": [
    {
     "data": {
      "text/plain": [
       "0.9999983369439447"
      ]
     },
     "execution_count": 12,
     "metadata": {},
     "output_type": "execute_result"
    }
   ],
   "source": [
    "tanh(7)"
   ]
  },
  {
   "cell_type": "code",
   "execution_count": 13,
   "id": "14a18d72-9bee-4776-8ab1-2b53cf794ff2",
   "metadata": {},
   "outputs": [
    {
     "data": {
      "text/plain": [
       "0.5878013021627486"
      ]
     },
     "execution_count": 13,
     "metadata": {},
     "output_type": "execute_result"
    }
   ],
   "source": [
    "tanh(0.6743)"
   ]
  },
  {
   "cell_type": "code",
   "execution_count": 14,
   "id": "0339ae69-a7b1-454e-a20c-f23f1327afb5",
   "metadata": {},
   "outputs": [],
   "source": [
    "def relu(x):\n",
    "    return max(0,x)"
   ]
  },
  {
   "cell_type": "code",
   "execution_count": 15,
   "id": "c071595d-ac40-4f25-a904-d2780760bde3",
   "metadata": {},
   "outputs": [
    {
     "data": {
      "text/plain": [
       "0"
      ]
     },
     "execution_count": 15,
     "metadata": {},
     "output_type": "execute_result"
    }
   ],
   "source": [
    "relu(-100)"
   ]
  },
  {
   "cell_type": "code",
   "execution_count": 16,
   "id": "31bece2f-3bd9-4e79-80bd-0d24de49b449",
   "metadata": {},
   "outputs": [
    {
     "data": {
      "text/plain": [
       "3"
      ]
     },
     "execution_count": 16,
     "metadata": {},
     "output_type": "execute_result"
    }
   ],
   "source": [
    "relu(3)"
   ]
  },
  {
   "cell_type": "code",
   "execution_count": 17,
   "id": "95fad844-cd6b-4d5f-b429-aeb9ea68cd8e",
   "metadata": {},
   "outputs": [],
   "source": [
    "def leaky_relu(x):\n",
    "    return max(0.1*x,x)"
   ]
  },
  {
   "cell_type": "code",
   "execution_count": 18,
   "id": "429bf5ee-796c-4daa-bbef-d2465869fe58",
   "metadata": {},
   "outputs": [
    {
     "data": {
      "text/plain": [
       "-10.0"
      ]
     },
     "execution_count": 18,
     "metadata": {},
     "output_type": "execute_result"
    }
   ],
   "source": [
    "leaky_relu(-100)"
   ]
  },
  {
   "cell_type": "code",
   "execution_count": 19,
   "id": "659f1a32-42a6-462e-8550-a62489a656c3",
   "metadata": {},
   "outputs": [
    {
     "data": {
      "text/plain": [
       "21"
      ]
     },
     "execution_count": 19,
     "metadata": {},
     "output_type": "execute_result"
    }
   ],
   "source": [
    "leaky_relu(21)"
   ]
  },
  {
   "cell_type": "code",
   "execution_count": null,
   "id": "d542309f-4ff2-43f1-9d55-6eb82bb91b1a",
   "metadata": {},
   "outputs": [],
   "source": []
  }
 ],
 "metadata": {
  "kernelspec": {
   "display_name": "Python 3.12 (spacy)",
   "language": "python",
   "name": "python312"
  },
  "language_info": {
   "codemirror_mode": {
    "name": "ipython",
    "version": 3
   },
   "file_extension": ".py",
   "mimetype": "text/x-python",
   "name": "python",
   "nbconvert_exporter": "python",
   "pygments_lexer": "ipython3",
   "version": "3.12.8"
  }
 },
 "nbformat": 4,
 "nbformat_minor": 5
}
